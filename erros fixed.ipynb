{
 "cells": [
  {
   "cell_type": "code",
   "execution_count": 10,
   "id": "2a5c37c8-3cf0-4a52-a527-7aeaa866db8e",
   "metadata": {},
   "outputs": [],
   "source": [
    "import pandas as pd \n",
    "import numpy as np"
   ]
  },
  {
   "cell_type": "code",
   "execution_count": 4,
   "id": "944d1a6e-57dc-4bd7-b76a-4efde6a938f4",
   "metadata": {},
   "outputs": [
    {
     "data": {
      "text/html": [
       "<div>\n",
       "<style scoped>\n",
       "    .dataframe tbody tr th:only-of-type {\n",
       "        vertical-align: middle;\n",
       "    }\n",
       "\n",
       "    .dataframe tbody tr th {\n",
       "        vertical-align: top;\n",
       "    }\n",
       "\n",
       "    .dataframe thead th {\n",
       "        text-align: right;\n",
       "    }\n",
       "</style>\n",
       "<table border=\"1\" class=\"dataframe\">\n",
       "  <thead>\n",
       "    <tr style=\"text-align: right;\">\n",
       "      <th></th>\n",
       "      <th>UTCPortTime</th>\n",
       "      <th>Port</th>\n",
       "      <th>SourceMMSI</th>\n",
       "      <th>MessageID</th>\n",
       "      <th>RepeatIndicator</th>\n",
       "      <th>NavigationalStatus</th>\n",
       "      <th>RateOfTurn</th>\n",
       "      <th>SpeedOverGround</th>\n",
       "      <th>PositionAccuracy</th>\n",
       "      <th>Latitude</th>\n",
       "      <th>...</th>\n",
       "      <th>SpecialManoeuvreIndicator</th>\n",
       "      <th>Spare</th>\n",
       "      <th>RAIMFlag</th>\n",
       "      <th>CommunicationStateSelectorFlag</th>\n",
       "      <th>CommSyncState</th>\n",
       "      <th>CommStateSlotTimeOut</th>\n",
       "      <th>CommStateSubMessage</th>\n",
       "      <th>CommStateSlotIncrement</th>\n",
       "      <th>CommStateNumberOfSlots</th>\n",
       "      <th>CommStateKeepFlag</th>\n",
       "    </tr>\n",
       "  </thead>\n",
       "  <tbody>\n",
       "    <tr>\n",
       "      <th>0</th>\n",
       "      <td>2024-02-01 00:00:07</td>\n",
       "      <td>1</td>\n",
       "      <td>477699500</td>\n",
       "      <td>1</td>\n",
       "      <td>Not repeated</td>\n",
       "      <td>0 - under way using engine</td>\n",
       "      <td>Turning Right 000°/min</td>\n",
       "      <td>12.6</td>\n",
       "      <td>Low (&gt;10m)</td>\n",
       "      <td>34° 17.0000' S</td>\n",
       "      <td>...</td>\n",
       "      <td>Unavailable</td>\n",
       "      <td>Reserved for future use</td>\n",
       "      <td>RAIM Not Used</td>\n",
       "      <td>SOTDMA communication state follows</td>\n",
       "      <td>UTC direct</td>\n",
       "      <td>1 frames left until slot change</td>\n",
       "      <td>23:59 UTC hour and minute</td>\n",
       "      <td>0</td>\n",
       "      <td>0</td>\n",
       "      <td>Reserved for future use</td>\n",
       "    </tr>\n",
       "    <tr>\n",
       "      <th>1</th>\n",
       "      <td>2024-02-01 00:00:07</td>\n",
       "      <td>1</td>\n",
       "      <td>477959300</td>\n",
       "      <td>1</td>\n",
       "      <td>Not repeated</td>\n",
       "      <td>0 - under way using engine</td>\n",
       "      <td>Turning Right 000°/min</td>\n",
       "      <td>8.2</td>\n",
       "      <td>Low (&gt;10m)</td>\n",
       "      <td>35° 2.0000' S</td>\n",
       "      <td>...</td>\n",
       "      <td>Unavailable</td>\n",
       "      <td>Reserved for future use</td>\n",
       "      <td>RAIM Not Used</td>\n",
       "      <td>SOTDMA communication state follows</td>\n",
       "      <td>UTC direct</td>\n",
       "      <td>4 frames left until slot change</td>\n",
       "      <td>Slot number 1152</td>\n",
       "      <td>0</td>\n",
       "      <td>0</td>\n",
       "      <td>Reserved for future use</td>\n",
       "    </tr>\n",
       "    <tr>\n",
       "      <th>2</th>\n",
       "      <td>2024-02-01 00:00:07</td>\n",
       "      <td>1</td>\n",
       "      <td>636020384</td>\n",
       "      <td>1</td>\n",
       "      <td>Not repeated</td>\n",
       "      <td>0 - under way using engine</td>\n",
       "      <td>Turning Left 000°/min</td>\n",
       "      <td>14.1</td>\n",
       "      <td>Low (&gt;10m)</td>\n",
       "      <td>34° 40.0000' S</td>\n",
       "      <td>...</td>\n",
       "      <td>Unavailable</td>\n",
       "      <td>Reserved for future use</td>\n",
       "      <td>RAIM Not Used</td>\n",
       "      <td>SOTDMA communication state follows</td>\n",
       "      <td>UTC direct</td>\n",
       "      <td>5 frames left until slot change</td>\n",
       "      <td>49 Received stations</td>\n",
       "      <td>0</td>\n",
       "      <td>0</td>\n",
       "      <td>Reserved for future use</td>\n",
       "    </tr>\n",
       "    <tr>\n",
       "      <th>3</th>\n",
       "      <td>2024-02-01 00:00:07</td>\n",
       "      <td>1</td>\n",
       "      <td>356956000</td>\n",
       "      <td>1</td>\n",
       "      <td>Not repeated</td>\n",
       "      <td>0 - under way using engine</td>\n",
       "      <td>Turning Right 010°/min</td>\n",
       "      <td>17.9</td>\n",
       "      <td>Low (&gt;10m)</td>\n",
       "      <td>33° 37.0000' S</td>\n",
       "      <td>...</td>\n",
       "      <td>Unavailable</td>\n",
       "      <td>Reserved for future use</td>\n",
       "      <td>RAIM Not Used</td>\n",
       "      <td>SOTDMA communication state follows</td>\n",
       "      <td>UTC direct</td>\n",
       "      <td>2 frames left until slot change</td>\n",
       "      <td>Slot number 2155</td>\n",
       "      <td>0</td>\n",
       "      <td>0</td>\n",
       "      <td>Reserved for future use</td>\n",
       "    </tr>\n",
       "    <tr>\n",
       "      <th>4</th>\n",
       "      <td>2024-02-01 00:00:07</td>\n",
       "      <td>1</td>\n",
       "      <td>563172100</td>\n",
       "      <td>1</td>\n",
       "      <td>Not repeated</td>\n",
       "      <td>0 - under way using engine</td>\n",
       "      <td>Turning Left 001°/min</td>\n",
       "      <td>12.8</td>\n",
       "      <td>Low (&gt;10m)</td>\n",
       "      <td>34° 57.0000' S</td>\n",
       "      <td>...</td>\n",
       "      <td>Unavailable</td>\n",
       "      <td>Reserved for future use</td>\n",
       "      <td>RAIM Not Used</td>\n",
       "      <td>SOTDMA communication state follows</td>\n",
       "      <td>UTC direct</td>\n",
       "      <td>4 frames left until slot change</td>\n",
       "      <td>Slot number 2165</td>\n",
       "      <td>0</td>\n",
       "      <td>0</td>\n",
       "      <td>Reserved for future use</td>\n",
       "    </tr>\n",
       "  </tbody>\n",
       "</table>\n",
       "<p>5 rows × 24 columns</p>\n",
       "</div>"
      ],
      "text/plain": [
       "           UTCPortTime  Port  SourceMMSI  MessageID RepeatIndicator  \\\n",
       "0  2024-02-01 00:00:07     1   477699500          1    Not repeated   \n",
       "1  2024-02-01 00:00:07     1   477959300          1    Not repeated   \n",
       "2  2024-02-01 00:00:07     1   636020384          1    Not repeated   \n",
       "3  2024-02-01 00:00:07     1   356956000          1    Not repeated   \n",
       "4  2024-02-01 00:00:07     1   563172100          1    Not repeated   \n",
       "\n",
       "           NavigationalStatus              RateOfTurn  SpeedOverGround  \\\n",
       "0  0 - under way using engine  Turning Right 000°/min             12.6   \n",
       "1  0 - under way using engine  Turning Right 000°/min              8.2   \n",
       "2  0 - under way using engine   Turning Left 000°/min             14.1   \n",
       "3  0 - under way using engine  Turning Right 010°/min             17.9   \n",
       "4  0 - under way using engine   Turning Left 001°/min             12.8   \n",
       "\n",
       "  PositionAccuracy        Latitude  ... SpecialManoeuvreIndicator  \\\n",
       "0       Low (>10m)  34° 17.0000' S  ...               Unavailable   \n",
       "1       Low (>10m)   35° 2.0000' S  ...               Unavailable   \n",
       "2       Low (>10m)  34° 40.0000' S  ...               Unavailable   \n",
       "3       Low (>10m)  33° 37.0000' S  ...               Unavailable   \n",
       "4       Low (>10m)  34° 57.0000' S  ...               Unavailable   \n",
       "\n",
       "                     Spare       RAIMFlag      CommunicationStateSelectorFlag  \\\n",
       "0  Reserved for future use  RAIM Not Used  SOTDMA communication state follows   \n",
       "1  Reserved for future use  RAIM Not Used  SOTDMA communication state follows   \n",
       "2  Reserved for future use  RAIM Not Used  SOTDMA communication state follows   \n",
       "3  Reserved for future use  RAIM Not Used  SOTDMA communication state follows   \n",
       "4  Reserved for future use  RAIM Not Used  SOTDMA communication state follows   \n",
       "\n",
       "  CommSyncState             CommStateSlotTimeOut        CommStateSubMessage  \\\n",
       "0    UTC direct  1 frames left until slot change  23:59 UTC hour and minute   \n",
       "1    UTC direct  4 frames left until slot change           Slot number 1152   \n",
       "2    UTC direct  5 frames left until slot change       49 Received stations   \n",
       "3    UTC direct  2 frames left until slot change           Slot number 2155   \n",
       "4    UTC direct  4 frames left until slot change           Slot number 2165   \n",
       "\n",
       "  CommStateSlotIncrement CommStateNumberOfSlots        CommStateKeepFlag  \n",
       "0                      0                      0  Reserved for future use  \n",
       "1                      0                      0  Reserved for future use  \n",
       "2                      0                      0  Reserved for future use  \n",
       "3                      0                      0  Reserved for future use  \n",
       "4                      0                      0  Reserved for future use  \n",
       "\n",
       "[5 rows x 24 columns]"
      ]
     },
     "execution_count": 4,
     "metadata": {},
     "output_type": "execute_result"
    }
   ],
   "source": [
    "df = pd.read_csv('RSA_COASTDATA 2.csv')\n",
    "df.head()"
   ]
  },
  {
   "cell_type": "code",
   "execution_count": 11,
   "id": "80edfeda-1e9f-47f0-b7ab-5f373d5a8f15",
   "metadata": {
    "scrolled": true
   },
   "outputs": [],
   "source": [
    "# Remove degree symbols and handle non-numeric values\n",
    "df['CourseOverGround'] = df['CourseOverGround'].str.replace('°', '').replace('Unavailable', np.nan).astype(float)\n",
    "df['Heading'] = df['Heading'].str.replace('°', '').replace('Unavailable', np.nan).astype(float)"
   ]
  },
  {
   "cell_type": "code",
   "execution_count": 19,
   "id": "318dba3a-1525-438b-b70c-e496e0be12ba",
   "metadata": {},
   "outputs": [],
   "source": [
    "df['RateOfTurn'] = df['RateOfTurn'].apply(lambda x: x[:50] if isinstance(x, str) else x) "
   ]
  },
  {
   "cell_type": "code",
   "execution_count": 21,
   "id": "67b3508d-dd71-4223-89c5-2775f413f3ae",
   "metadata": {},
   "outputs": [],
   "source": [
    "df = df[df['UTCTimeStamp'] != \"Unavailable\"]"
   ]
  },
  {
   "cell_type": "code",
   "execution_count": 28,
   "id": "2cfeede1-131c-4f10-8141-14fab3d8c737",
   "metadata": {},
   "outputs": [
    {
     "name": "stdout",
     "output_type": "stream",
     "text": [
      "[]\n"
     ]
    }
   ],
   "source": [
    "non_numeric_values = df[pd.to_numeric(df['UTCTimeStamp'], errors='coerce').isna()]['UTCTimeStamp'].unique()\n",
    "print(non_numeric_values)\n",
    "df = df[pd.to_numeric(df['UTCTimeStamp'], errors='coerce').notna()]\n",
    "\n",
    "# Convert the column to integer type\n",
    "df['UTCTimeStamp'] = df['UTCTimeStamp'].astype(int)"
   ]
  },
  {
   "cell_type": "code",
   "execution_count": 32,
   "id": "3d6c5423-59a8-4c8a-b7fe-fe9150aa27e2",
   "metadata": {},
   "outputs": [],
   "source": [
    "df['CommSyncState'] = df['CommSyncState'].str[:50]"
   ]
  },
  {
   "cell_type": "code",
   "execution_count": 33,
   "id": "96050673-770e-4018-8abf-eab5bb9cc9b4",
   "metadata": {},
   "outputs": [],
   "source": [
    "clean_output_file = 'RSA_COASTDATA 2.csv'\n",
    "df.to_csv(clean_output_file, index=False)"
   ]
  },
  {
   "cell_type": "code",
   "execution_count": 34,
   "id": "6f0a752b-6cb9-43f2-90b4-35aed19509fd",
   "metadata": {},
   "outputs": [
    {
     "name": "stdout",
     "output_type": "stream",
     "text": [
      "Filtered data saved to RSA_COASTDATA 2.csv\n"
     ]
    }
   ],
   "source": [
    "print(f\"Filtered data saved to {clean_output_file}\")"
   ]
  },
  {
   "cell_type": "code",
   "execution_count": null,
   "id": "b5612c7e-b456-4a9f-bb35-8ffede143423",
   "metadata": {},
   "outputs": [],
   "source": []
  }
 ],
 "metadata": {
  "kernelspec": {
   "display_name": "Python 3 (ipykernel)",
   "language": "python",
   "name": "python3"
  },
  "language_info": {
   "codemirror_mode": {
    "name": "ipython",
    "version": 3
   },
   "file_extension": ".py",
   "mimetype": "text/x-python",
   "name": "python",
   "nbconvert_exporter": "python",
   "pygments_lexer": "ipython3",
   "version": "3.12.5"
  }
 },
 "nbformat": 4,
 "nbformat_minor": 5
}
