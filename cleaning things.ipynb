{
 "cells": [
  {
   "cell_type": "code",
   "execution_count": 1,
   "metadata": {},
   "outputs": [],
   "source": [
    "import pandas as pd\n",
    "import numpy as np\n",
    "import re\n",
    "from datetime import datetime, timedelta"
   ]
  },
  {
   "cell_type": "code",
   "execution_count": 3,
   "metadata": {},
   "outputs": [],
   "source": [
    "file_path = \"week4_february_2024.csv\"\n",
    "df = pd.read_csv(file_path)"
   ]
  },
  {
   "cell_type": "code",
   "execution_count": 7,
   "metadata": {},
   "outputs": [],
   "source": [
    "def convert_to_datetime(time_str):\n",
    "    parts = time_str.split(':')\n",
    "    hours = int(parts[0])\n",
    "    minutes_seconds = parts[1]\n",
    "\n",
    "    if hours > 23:\n",
    "        days = hours // 24\n",
    "        hours = hours % 24\n",
    "        dt_str = f'{hours:02d}:{minutes_seconds}'\n",
    "        dt = datetime.striptime(dt_str, '%H:%M.%S') + timedelta(days=days)\n",
    "    \n",
    "    else:\n",
    "        dt = datetime.striptime(time_str, '%H:%M.%S')\n",
    "    \n",
    "    return dt"
   ]
  },
  {
   "cell_type": "code",
   "execution_count": 10,
   "metadata": {},
   "outputs": [],
   "source": [
    "def convert_to_float(knots_str):\n",
    "    try:\n",
    "        return float(knots_str.split()[0])\n",
    "    except ValueError:\n",
    "        return None "
   ]
  },
  {
   "cell_type": "code",
   "execution_count": 11,
   "metadata": {},
   "outputs": [],
   "source": [
    "def convert_to_float_or_na(value_str):\n",
    "    try:\n",
    "        return float(value_str.replace('°', '').strip())\n",
    "    except ValueError:\n",
    "        return None"
   ]
  },
  {
   "cell_type": "code",
   "execution_count": null,
   "metadata": {},
   "outputs": [],
   "source": []
  }
 ],
 "metadata": {
  "kernelspec": {
   "display_name": "Python 3",
   "language": "python",
   "name": "python3"
  },
  "language_info": {
   "codemirror_mode": {
    "name": "ipython",
    "version": 3
   },
   "file_extension": ".py",
   "mimetype": "text/x-python",
   "name": "python",
   "nbconvert_exporter": "python",
   "pygments_lexer": "ipython3",
   "version": "3.12.5"
  }
 },
 "nbformat": 4,
 "nbformat_minor": 2
}
