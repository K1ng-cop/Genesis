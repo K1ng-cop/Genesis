{
 "cells": [
  {
   "cell_type": "code",
   "execution_count": 4,
   "id": "679cecda-3439-4904-b542-a1713cc34c8a",
   "metadata": {},
   "outputs": [],
   "source": [
    "import pandas as pd \n",
    "import numpy as np"
   ]
  },
  {
   "cell_type": "code",
   "execution_count": 5,
   "id": "2948a37c-e849-4b5b-8ccc-31d15c806438",
   "metadata": {},
   "outputs": [],
   "source": [
    "input_file = 'RSA_COASTDATA.csv'\n",
    "df = pd.read_csv(input_file)"
   ]
  },
  {
   "cell_type": "code",
   "execution_count": 6,
   "id": "761368e9-3f50-47b2-ab01-5f2fb8b803e4",
   "metadata": {},
   "outputs": [],
   "source": [
    "df['UTCPortTime'] = pd.to_datetime(df['UTCPortTime'])"
   ]
  },
  {
   "cell_type": "code",
   "execution_count": 8,
   "id": "54d44e04-4bc8-4109-8a5e-5133501295f9",
   "metadata": {},
   "outputs": [],
   "source": [
    "df['SpeedOverGround'] = pd.to_numeric(df['SpeedOverGround'].str.replace(' knots', ''), errors='coerce')"
   ]
  },
  {
   "cell_type": "code",
   "execution_count": 9,
   "id": "40949799-9a84-491f-8fbc-816a369c15a0",
   "metadata": {},
   "outputs": [],
   "source": [
    "def dms_to_dd(dms):\n",
    "    sign = -1 if dms[-1] in ['S', 'E'] else 1\n",
    "    parts = dms[:-2].split('° ')\n",
    "    degrees = float(parts[0])\n",
    "    minutes = float(parts[1].replace(\"'\", ''))\n",
    "    return sign * (degrees + minutes/ 60)"
   ]
  },
  {
   "cell_type": "code",
   "execution_count": 11,
   "id": "ccc466a3-5b98-4e27-aaa0-e1a53fa111d7",
   "metadata": {},
   "outputs": [],
   "source": [
    "df['Latitude'] = df['Latitude'].apply(dms_to_dd)"
   ]
  },
  {
   "cell_type": "code",
   "execution_count": 12,
   "id": "f533c561-9dfa-4c31-90cc-61abf2342ed9",
   "metadata": {},
   "outputs": [],
   "source": [
    "df['Longitude'] = df['Longitude'].apply(dms_to_dd)"
   ]
  },
  {
   "cell_type": "code",
   "execution_count": 13,
   "id": "5b92a1d5-5aa1-445b-868b-86080f026eb1",
   "metadata": {},
   "outputs": [],
   "source": [
    "df.replace('Null', np.nan, inplace=True)"
   ]
  },
  {
   "cell_type": "code",
   "execution_count": 14,
   "id": "005cdbad-0b40-41a1-ab2a-d5e41198e177",
   "metadata": {},
   "outputs": [],
   "source": [
    "df['Port'] = df['Port'].astype(int)"
   ]
  },
  {
   "cell_type": "code",
   "execution_count": 15,
   "id": "c7309038-e8d2-4305-aaef-1aa020bb3048",
   "metadata": {},
   "outputs": [],
   "source": [
    "df['SourceMMSI'] = df['SourceMMSI'].astype(int)"
   ]
  },
  {
   "cell_type": "code",
   "execution_count": 16,
   "id": "0c4da655-b11d-41bf-85d5-6a65b0e69100",
   "metadata": {},
   "outputs": [],
   "source": [
    "df['RepeatIndicator'] = df['RepeatIndicator'].astype('category')"
   ]
  },
  {
   "cell_type": "code",
   "execution_count": 17,
   "id": "eac0a279-f3aa-40c0-8e9a-6f348a42b153",
   "metadata": {},
   "outputs": [],
   "source": [
    "df['NavigationalStatus'] = df['NavigationalStatus'].astype('category')"
   ]
  },
  {
   "cell_type": "code",
   "execution_count": 18,
   "id": "8d80845c-0dfb-4932-bf47-0aa37b34987c",
   "metadata": {},
   "outputs": [],
   "source": [
    "df['PositionAccuracy'] = df['PositionAccuracy'].astype('category')"
   ]
  },
  {
   "cell_type": "code",
   "execution_count": 19,
   "id": "53db74e9-bb84-4ec9-a723-8040926c83bd",
   "metadata": {},
   "outputs": [],
   "source": [
    "df['SpecialManoeuvreIndicator'] = df['SpecialManoeuvreIndicator'].astype('category')"
   ]
  },
  {
   "cell_type": "code",
   "execution_count": 20,
   "id": "8052f0da-3e98-41e2-898a-1c47feb4088f",
   "metadata": {},
   "outputs": [],
   "source": [
    "df['Spare'] = df['Spare'].astype('category')"
   ]
  },
  {
   "cell_type": "code",
   "execution_count": 21,
   "id": "cc480aac-c8f0-4ee4-9fee-52c14b9367aa",
   "metadata": {},
   "outputs": [],
   "source": [
    "df['RAIMFlag'] = df['RAIMFlag'].astype('category')"
   ]
  },
  {
   "cell_type": "code",
   "execution_count": 22,
   "id": "82ae4810-ee79-4e55-8053-441a481e43c5",
   "metadata": {},
   "outputs": [],
   "source": [
    "df['CommunicationStateSelectorFlag'] = df['CommunicationStateSelectorFlag'].astype('category')"
   ]
  },
  {
   "cell_type": "code",
   "execution_count": 23,
   "id": "fa53f78b-9566-4983-9ae6-f5cfb92ce67c",
   "metadata": {},
   "outputs": [],
   "source": [
    "df['CommSyncState'] = df['CommSyncState'].astype('category')"
   ]
  },
  {
   "cell_type": "code",
   "execution_count": 24,
   "id": "3c2f9135-9d92-4775-830e-878f214d29bd",
   "metadata": {},
   "outputs": [],
   "source": [
    "df['CommStateSlotTimeOut'] = df['CommStateSlotTimeOut'].astype('category')"
   ]
  },
  {
   "cell_type": "code",
   "execution_count": 25,
   "id": "c237f418-83a1-41ae-9ea8-193385d7f499",
   "metadata": {},
   "outputs": [],
   "source": [
    "df['CommStateSubMessage'] = df['CommStateSubMessage'].astype('category')"
   ]
  },
  {
   "cell_type": "code",
   "execution_count": 26,
   "id": "6d773a3f-f3e9-4c32-beca-69fc3b6f8f30",
   "metadata": {},
   "outputs": [],
   "source": [
    "df['CommStateSlotIncrement'] = pd.to_numeric(df['CommStateSlotIncrement'], errors='coerce').fillna(0).astype(int)"
   ]
  },
  {
   "cell_type": "code",
   "execution_count": 27,
   "id": "0b0cf0bc-332a-49b2-883c-0ef71edfd3e4",
   "metadata": {},
   "outputs": [],
   "source": [
    "df['CommStateNumberOfSlots'] = pd.to_numeric(df['CommStateNumberOfSlots'], errors='coerce').fillna(0).astype(int)"
   ]
  },
  {
   "cell_type": "code",
   "execution_count": 28,
   "id": "343f9db5-0800-4ca3-93c7-5abe019985b2",
   "metadata": {},
   "outputs": [],
   "source": [
    "df['CommStateKeepFlag'] = df['CommStateKeepFlag'].astype('category')"
   ]
  },
  {
   "cell_type": "code",
   "execution_count": 39,
   "id": "3a4816b1-9c61-4fd4-a00d-5eb40fbeeb7a",
   "metadata": {},
   "outputs": [],
   "source": [
    "def dd_to_dms(dd, is_latitude):\n",
    "    direction = 'N' if is_latitude else 'E'\n",
    "    if dd < 0:\n",
    "        dd = abs(dd)\n",
    "        direction = 'S' if is_latitude else 'W'\n",
    "    degrees = int(dd)\n",
    "    minutes = int((dd - degrees) * 60)\n",
    "    seconds = (dd - degrees - minutes / 60) * 3600\n",
    "    return f\"{degrees}° {minutes:.4f}' {direction}\""
   ]
  },
  {
   "cell_type": "code",
   "execution_count": 40,
   "id": "7ef2d0ec-848a-4e26-9792-6333fc871f14",
   "metadata": {},
   "outputs": [],
   "source": [
    "df['Latitude'] = df['Latitude'].apply(lambda x: dd_to_dms(x, True))"
   ]
  },
  {
   "cell_type": "code",
   "execution_count": 41,
   "id": "7dc3b960-ff5c-47f9-ae11-bff966538652",
   "metadata": {},
   "outputs": [],
   "source": [
    "df['Longitude'] = df['Longitude'].apply(lambda x: dd_to_dms(x, False))"
   ]
  },
  {
   "cell_type": "code",
   "execution_count": 42,
   "id": "6b998516-2801-444a-8d69-e268842126f0",
   "metadata": {},
   "outputs": [],
   "source": [
    "output_file = 'RSA_COASTDATA 2.csv'\n",
    "df.to_csv(output_file, index=False)"
   ]
  },
  {
   "cell_type": "code",
   "execution_count": 43,
   "id": "66cd5a0f-8aee-4ef0-ba9b-d19856b759f7",
   "metadata": {},
   "outputs": [
    {
     "name": "stdout",
     "output_type": "stream",
     "text": [
      "Cleaned data saved to RSA_COASTDATA 2.csv\n"
     ]
    }
   ],
   "source": [
    "print(f'Cleaned data saved to {output_file}')"
   ]
  },
  {
   "cell_type": "code",
   "execution_count": null,
   "id": "3524f9e4-9803-4f4c-b9e1-3c950821f6a1",
   "metadata": {},
   "outputs": [],
   "source": [
    "\n"
   ]
  }
 ],
 "metadata": {
  "kernelspec": {
   "display_name": "Python 3 (ipykernel)",
   "language": "python",
   "name": "python3"
  },
  "language_info": {
   "codemirror_mode": {
    "name": "ipython",
    "version": 3
   },
   "file_extension": ".py",
   "mimetype": "text/x-python",
   "name": "python",
   "nbconvert_exporter": "python",
   "pygments_lexer": "ipython3",
   "version": "3.12.5"
  }
 },
 "nbformat": 4,
 "nbformat_minor": 5
}
