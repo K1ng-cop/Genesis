{
 "cells": [
  {
   "cell_type": "code",
   "execution_count": 21,
   "id": "e4f5b35a-dc98-4680-975b-ff5742afe154",
   "metadata": {},
   "outputs": [],
   "source": [
    "import pandas as pd\n",
    "import numpy as np\n",
    "import re\n",
    "from datetime import datetime, timedelta "
   ]
  },
  {
   "cell_type": "code",
   "execution_count": 22,
   "id": "4a40456e-c4ff-4e84-a0f9-a6f021683925",
   "metadata": {},
   "outputs": [],
   "source": [
    "file_path = 'week4_february_2024.csv'\n",
    "df= pd.read_csv(file_path)"
   ]
  },
  {
   "cell_type": "code",
   "execution_count": 3,
   "id": "32e0e74c-386a-4663-9701-c1c1084a8352",
   "metadata": {},
   "outputs": [],
   "source": [
    "def convert_to_datetime(time_str):\n",
    "    parts = time_str.split(':')\n",
    "    hours = int(parts[0])\n",
    "    minutes_seconds = parts[1]\n",
    "    \n",
    "    if hours > 23:\n",
    "        days = hours // 24\n",
    "        hours = hours % 24\n",
    "        dt_str = f'{hours:02d}:{minutes_seconds}'\n",
    "        dt = datetime.strptime(dt_str, '%H:%M.%S') + timedelta(days=days)\n",
    "    else:\n",
    "        dt = datetime.strptime(time_str, '%H:%M.%S')\n",
    "    \n",
    "    return dt"
   ]
  },
  {
   "cell_type": "code",
   "execution_count": 5,
   "id": "8ebf59a1-dc80-4258-894d-3fbbda51ed48",
   "metadata": {},
   "outputs": [],
   "source": [
    "def convert_to_datetime(datetime_str):\n",
    "    try:\n",
    "        # Try parsing with both date and time\n",
    "        dt = datetime.strptime(datetime_str, '%Y-%m-%d %H:%M:%S')\n",
    "    except ValueError:\n",
    "        try:\n",
    "            # Fallback to parsing time only (assuming it might happen in some cases)\n",
    "            dt = datetime.strptime(datetime_str, '%H:%M:%S')\n",
    "        except ValueError:\n",
    "            # If all else fails, return None (or handle it as needed)\n",
    "            dt = None\n",
    "    return dt"
   ]
  },
  {
   "cell_type": "code",
   "execution_count": 7,
   "id": "fd9616e7-ab7d-45de-b461-7379893a36d7",
   "metadata": {},
   "outputs": [],
   "source": [
    "def convert_repeat_indicator(value):\n",
    "    if value == 'Not repeated':\n",
    "        return 0\n",
    "    match = re.search(r'(\\d+)', value)\n",
    "    if match:\n",
    "        return int(match.group(1))\n",
    "    return None"
   ]
  },
  {
   "cell_type": "code",
   "execution_count": 8,
   "id": "8cc47beb-6f43-43cb-ba11-b40db1d3e0a1",
   "metadata": {},
   "outputs": [],
   "source": [
    "def convert_to_float(knots_str):\n",
    "    return float(knots_str.split()[0])"
   ]
  },
  {
   "cell_type": "code",
   "execution_count": 9,
   "id": "4e5e17be-d550-4d88-b80f-671f6ede61d2",
   "metadata": {},
   "outputs": [],
   "source": [
    "def convert_to_float(knots_str):\n",
    "    try:\n",
    "        return float(knots_str.split()[0])\n",
    "    except ValueError:\n",
    "        return None"
   ]
  },
  {
   "cell_type": "code",
   "execution_count": 10,
   "id": "2247c5b5-af04-4b1c-83cf-1267d28905b0",
   "metadata": {},
   "outputs": [],
   "source": [
    "def extract_numeric(value):\n",
    "    try:\n",
    "        return float(re.findall(r'[-+]?\\d.\\d+|\\d+', str(value))[0])\n",
    "    except(indexError, ValueError):\n",
    "        return None"
   ]
  },
  {
   "cell_type": "code",
   "execution_count": 99,
   "id": "a04bef0b-a67d-42b7-89ed-eae29662217f",
   "metadata": {},
   "outputs": [],
   "source": [
    "def convert_to_float_or_na(value_str):\n",
    "    try:\n",
    "        return float(value_str_replace('°', ''))\n",
    "    except ValueError:\n",
    "        return None"
   ]
  },
  {
   "cell_type": "code",
   "execution_count": 100,
   "id": "04c9eea1-9c50-4a6c-838c-c9783dc15804",
   "metadata": {},
   "outputs": [],
   "source": [
    "def convert_to_float_or_na(value_str):\n",
    "    try:\n",
    "        return float(value_str.replace('°', ''))\n",
    "    except ValueError:\n",
    "        return None"
   ]
  },
  {
   "cell_type": "code",
   "execution_count": 101,
   "id": "9779814e-4400-4019-88a7-babbdb7043a7",
   "metadata": {},
   "outputs": [],
   "source": [
    "# Map for NavigationalStatus\n",
    "navigational_status_map = {\n",
    "    '0 - under way using engine': 0,\n",
    "    '1 - at anchor': 1,\n",
    "    '2 - not under command': 2,\n",
    "    '3 - restricted manoeuverability': 3,\n",
    "    '4 - constrained by her draught': 4,\n",
    "    '5 - moored': 5,\n",
    "    '6 - aground': 6,\n",
    "    '7 - engaged in fishing': 7,\n",
    "    '8 - under way sailing': 8,\n",
    "    '9 - reserved for future amendment': 9,\n",
    "    '10 - reserved for future amendment': 10,\n",
    "    '11 - reserved for future amendment': 11,\n",
    "    '12 - reserved for future amendment': 12,\n",
    "    '13 - reserved for future amendment': 13,\n",
    "    '14 - ais-sart is active': 14,\n",
    "    '15 - not defined': 15\n",
    "}\n",
    "\n",
    "def convert_navigational_status(value):\n",
    "    return navigational_status_map.get(value, None)"
   ]
  },
  {
   "cell_type": "code",
   "execution_count": 102,
   "id": "bdc3ec9f-7301-475b-98ea-c25ec6b4431f",
   "metadata": {},
   "outputs": [],
   "source": [
    "def convert_position_accuracy(value):\n",
    "    if 'High' in value:\n",
    "        return 1\n",
    "    elif 'Low' in value:\n",
    "        return 0\n",
    "    return None "
   ]
  },
  {
   "cell_type": "code",
   "execution_count": 103,
   "id": "04551d49-b1a1-44e0-88d7-ed03bf0b8955",
   "metadata": {},
   "outputs": [],
   "source": [
    "def convert_latitude_dms_to_dd(dms_str):\n",
    "    # Remove leading and trailing whitespaces\n",
    "    dms_str = dms_str.strip()\n",
    "    \n",
    "    # Check if the last character is the direction indicator\n",
    "    direction = dms_str[-1]\n",
    "    if direction not in ['N', 'S']:\n",
    "        raise ValueError(f\"Invalid direction '{direction}' in DMS string\")\n",
    "\n",
    "    # Remove the direction character from the DMS string\n",
    "    dms_str = dms_str[:-1].strip()\n",
    "    \n",
    "    # Split the DMS string into parts\n",
    "    parts = re.split('[°\\'\"]', dms_str)\n",
    "\n",
    "    # Convert the parts to float\n",
    "    degrees = float(parts[0].strip())\n",
    "    minutes = float(parts[1].strip())\n",
    "    seconds = float(parts[2].strip()) if len(parts) > 2 and parts[2].strip() else 0.0\n",
    "\n",
    "    # Calculate the decimal degree\n",
    "    dd = degrees + (minutes / 60.0) + (seconds / 3600.0)\n",
    "    \n",
    "    # Adjust for direction\n",
    "    if direction == 'S':\n",
    "        dd *= -1\n",
    "        \n",
    "    return dd"
   ]
  },
  {
   "cell_type": "code",
   "execution_count": 104,
   "id": "b1edb384-c738-4c76-a585-e8f5e56f4dfe",
   "metadata": {},
   "outputs": [],
   "source": [
    "def convert_longitude_dms_to_dd(dms_str):\n",
    "    # Remove leading and trailing whitespaces\n",
    "    dms_str = dms_str.strip()\n",
    "    \n",
    "    # Check if the last character is the direction indicator\n",
    "    direction = dms_str[-1]\n",
    "    if direction not in ['E', 'W']:\n",
    "        raise ValueError(f\"Invalid direction '{direction}' in DMS string\")\n",
    "\n",
    "    # Remove the direction character from the DMS string\n",
    "    dms_str = dms_str[:-1].strip()\n",
    "    \n",
    "    # Split the DMS string into parts\n",
    "    parts = re.split('[°\\'\"]', dms_str)\n",
    "\n",
    "    # Convert the parts to float\n",
    "    degrees = float(parts[0].strip())\n",
    "    minutes = float(parts[1].strip())\n",
    "    seconds = float(parts[2].strip()) if len(parts) > 2 and parts[2].strip() else 0.0\n",
    "\n",
    "    # Calculate the decimal degree\n",
    "    dd = degrees + (minutes / 60.0) + (seconds / 3600.0)\n",
    "    \n",
    "    # Adjust for direction\n",
    "    if direction == 'E':\n",
    "        dd *= 1\n",
    "        \n",
    "    return dd"
   ]
  },
  {
   "cell_type": "code",
   "execution_count": 6,
   "id": "c94c641b-833d-47ca-9f73-9a170e8503f6",
   "metadata": {},
   "outputs": [],
   "source": [
    "df['UTCPortTime'] = df['UTCPortTime'].apply(convert_to_datetime)"
   ]
  },
  {
   "cell_type": "code",
   "execution_count": 108,
   "id": "cefd4576-2584-45d5-9822-ce6fc2fc7545",
   "metadata": {},
   "outputs": [
    {
     "ename": "KeyError",
     "evalue": "'Port'",
     "output_type": "error",
     "traceback": [
      "\u001b[1;31m---------------------------------------------------------------------------\u001b[0m",
      "\u001b[1;31mKeyError\u001b[0m                                  Traceback (most recent call last)",
      "File \u001b[1;32m~\\AppData\\Local\\Programs\\Python\\Python312\\Lib\\site-packages\\pandas\\core\\indexes\\base.py:3805\u001b[0m, in \u001b[0;36mIndex.get_loc\u001b[1;34m(self, key)\u001b[0m\n\u001b[0;32m   3804\u001b[0m \u001b[38;5;28;01mtry\u001b[39;00m:\n\u001b[1;32m-> 3805\u001b[0m     \u001b[38;5;28;01mreturn\u001b[39;00m \u001b[38;5;28;43mself\u001b[39;49m\u001b[38;5;241;43m.\u001b[39;49m\u001b[43m_engine\u001b[49m\u001b[38;5;241;43m.\u001b[39;49m\u001b[43mget_loc\u001b[49m\u001b[43m(\u001b[49m\u001b[43mcasted_key\u001b[49m\u001b[43m)\u001b[49m\n\u001b[0;32m   3806\u001b[0m \u001b[38;5;28;01mexcept\u001b[39;00m \u001b[38;5;167;01mKeyError\u001b[39;00m \u001b[38;5;28;01mas\u001b[39;00m err:\n",
      "File \u001b[1;32mindex.pyx:167\u001b[0m, in \u001b[0;36mpandas._libs.index.IndexEngine.get_loc\u001b[1;34m()\u001b[0m\n",
      "File \u001b[1;32mindex.pyx:196\u001b[0m, in \u001b[0;36mpandas._libs.index.IndexEngine.get_loc\u001b[1;34m()\u001b[0m\n",
      "File \u001b[1;32mpandas\\\\_libs\\\\hashtable_class_helper.pxi:7081\u001b[0m, in \u001b[0;36mpandas._libs.hashtable.PyObjectHashTable.get_item\u001b[1;34m()\u001b[0m\n",
      "File \u001b[1;32mpandas\\\\_libs\\\\hashtable_class_helper.pxi:7089\u001b[0m, in \u001b[0;36mpandas._libs.hashtable.PyObjectHashTable.get_item\u001b[1;34m()\u001b[0m\n",
      "\u001b[1;31mKeyError\u001b[0m: 'Port'",
      "\nThe above exception was the direct cause of the following exception:\n",
      "\u001b[1;31mKeyError\u001b[0m                                  Traceback (most recent call last)",
      "Cell \u001b[1;32mIn[108], line 1\u001b[0m\n\u001b[1;32m----> 1\u001b[0m df[\u001b[38;5;124m'\u001b[39m\u001b[38;5;124mPort\u001b[39m\u001b[38;5;124m'\u001b[39m] \u001b[38;5;241m=\u001b[39m \u001b[43mdf\u001b[49m\u001b[43m[\u001b[49m\u001b[38;5;124;43m'\u001b[39;49m\u001b[38;5;124;43mPort\u001b[39;49m\u001b[38;5;124;43m'\u001b[39;49m\u001b[43m]\u001b[49m\u001b[38;5;241m.\u001b[39mastype(\u001b[38;5;28mint\u001b[39m)\n",
      "File \u001b[1;32m~\\AppData\\Local\\Programs\\Python\\Python312\\Lib\\site-packages\\pandas\\core\\frame.py:4102\u001b[0m, in \u001b[0;36mDataFrame.__getitem__\u001b[1;34m(self, key)\u001b[0m\n\u001b[0;32m   4100\u001b[0m \u001b[38;5;28;01mif\u001b[39;00m \u001b[38;5;28mself\u001b[39m\u001b[38;5;241m.\u001b[39mcolumns\u001b[38;5;241m.\u001b[39mnlevels \u001b[38;5;241m>\u001b[39m \u001b[38;5;241m1\u001b[39m:\n\u001b[0;32m   4101\u001b[0m     \u001b[38;5;28;01mreturn\u001b[39;00m \u001b[38;5;28mself\u001b[39m\u001b[38;5;241m.\u001b[39m_getitem_multilevel(key)\n\u001b[1;32m-> 4102\u001b[0m indexer \u001b[38;5;241m=\u001b[39m \u001b[38;5;28;43mself\u001b[39;49m\u001b[38;5;241;43m.\u001b[39;49m\u001b[43mcolumns\u001b[49m\u001b[38;5;241;43m.\u001b[39;49m\u001b[43mget_loc\u001b[49m\u001b[43m(\u001b[49m\u001b[43mkey\u001b[49m\u001b[43m)\u001b[49m\n\u001b[0;32m   4103\u001b[0m \u001b[38;5;28;01mif\u001b[39;00m is_integer(indexer):\n\u001b[0;32m   4104\u001b[0m     indexer \u001b[38;5;241m=\u001b[39m [indexer]\n",
      "File \u001b[1;32m~\\AppData\\Local\\Programs\\Python\\Python312\\Lib\\site-packages\\pandas\\core\\indexes\\base.py:3812\u001b[0m, in \u001b[0;36mIndex.get_loc\u001b[1;34m(self, key)\u001b[0m\n\u001b[0;32m   3807\u001b[0m     \u001b[38;5;28;01mif\u001b[39;00m \u001b[38;5;28misinstance\u001b[39m(casted_key, \u001b[38;5;28mslice\u001b[39m) \u001b[38;5;129;01mor\u001b[39;00m (\n\u001b[0;32m   3808\u001b[0m         \u001b[38;5;28misinstance\u001b[39m(casted_key, abc\u001b[38;5;241m.\u001b[39mIterable)\n\u001b[0;32m   3809\u001b[0m         \u001b[38;5;129;01mand\u001b[39;00m \u001b[38;5;28many\u001b[39m(\u001b[38;5;28misinstance\u001b[39m(x, \u001b[38;5;28mslice\u001b[39m) \u001b[38;5;28;01mfor\u001b[39;00m x \u001b[38;5;129;01min\u001b[39;00m casted_key)\n\u001b[0;32m   3810\u001b[0m     ):\n\u001b[0;32m   3811\u001b[0m         \u001b[38;5;28;01mraise\u001b[39;00m InvalidIndexError(key)\n\u001b[1;32m-> 3812\u001b[0m     \u001b[38;5;28;01mraise\u001b[39;00m \u001b[38;5;167;01mKeyError\u001b[39;00m(key) \u001b[38;5;28;01mfrom\u001b[39;00m \u001b[38;5;21;01merr\u001b[39;00m\n\u001b[0;32m   3813\u001b[0m \u001b[38;5;28;01mexcept\u001b[39;00m \u001b[38;5;167;01mTypeError\u001b[39;00m:\n\u001b[0;32m   3814\u001b[0m     \u001b[38;5;66;03m# If we have a listlike key, _check_indexing_error will raise\u001b[39;00m\n\u001b[0;32m   3815\u001b[0m     \u001b[38;5;66;03m#  InvalidIndexError. Otherwise we fall through and re-raise\u001b[39;00m\n\u001b[0;32m   3816\u001b[0m     \u001b[38;5;66;03m#  the TypeError.\u001b[39;00m\n\u001b[0;32m   3817\u001b[0m     \u001b[38;5;28mself\u001b[39m\u001b[38;5;241m.\u001b[39m_check_indexing_error(key)\n",
      "\u001b[1;31mKeyError\u001b[0m: 'Port'"
     ]
    }
   ],
   "source": [
    "df['Port'] = df['Port'].astype(int)"
   ]
  },
  {
   "cell_type": "code",
   "execution_count": 74,
   "id": "e2913fdb-0577-4295-9aef-1fdba8eba080",
   "metadata": {},
   "outputs": [],
   "source": [
    "df['SourceMMSI'] = df['SourceMMSI'].astype(int)"
   ]
  },
  {
   "cell_type": "code",
   "execution_count": 75,
   "id": "e81c1fb3-f21c-4c93-8627-495a28e455a4",
   "metadata": {},
   "outputs": [],
   "source": [
    "df['MessageID'] = df['MessageID'].astype(int)"
   ]
  },
  {
   "cell_type": "code",
   "execution_count": 76,
   "id": "09ebf657-69c5-4450-ab9e-d1014887a230",
   "metadata": {},
   "outputs": [],
   "source": [
    "df['RepeatIndicator'] = df['RepeatIndicator'].apply(convert_repeat_indicator)"
   ]
  },
  {
   "cell_type": "code",
   "execution_count": 77,
   "id": "5a0a80d9-3af3-4f73-84d7-119c1fae58d6",
   "metadata": {},
   "outputs": [],
   "source": [
    "df['NavigationalStatus'] = df['NavigationalStatus'].apply(convert_navigational_status)"
   ]
  },
  {
   "cell_type": "code",
   "execution_count": 78,
   "id": "1e2cd21e-9ebd-4084-a077-14352fc79bb4",
   "metadata": {},
   "outputs": [],
   "source": [
    "df['RateOfTurn'] = df['RateOfTurn'].apply(convert_to_float_or_na)"
   ]
  },
  {
   "cell_type": "code",
   "execution_count": 79,
   "id": "420bfba6-ec04-4fcd-a68b-50a7d51dc4d3",
   "metadata": {},
   "outputs": [],
   "source": [
    "df['SpeedOverGround'] = df ['SpeedOverGround'].apply(convert_to_float)"
   ]
  },
  {
   "cell_type": "code",
   "execution_count": 80,
   "id": "6820f5fd-cbe1-45b7-b9ec-1b931e388980",
   "metadata": {},
   "outputs": [],
   "source": [
    "df['PositionAccuracy'] = df['PositionAccuracy'].apply(convert_position_accuracy)"
   ]
  },
  {
   "cell_type": "code",
   "execution_count": 81,
   "id": "9ea86665-e2bb-4e03-bc0c-8bf0c4bd24c7",
   "metadata": {},
   "outputs": [],
   "source": [
    "df['Latitude'] = df['Latitude'].apply(convert_latitude_dms_to_dd)"
   ]
  },
  {
   "cell_type": "code",
   "execution_count": 82,
   "id": "f9568dec-c3df-4f5a-b140-f0f709a7f589",
   "metadata": {},
   "outputs": [],
   "source": [
    "df['Longitude'] = df['Longitude'].apply(convert_longitude_dms_to_dd)"
   ]
  },
  {
   "cell_type": "code",
   "execution_count": 83,
   "id": "c67be824-42b5-4ce8-88b8-d1c080cd9e47",
   "metadata": {},
   "outputs": [],
   "source": [
    "df['CourseOverGround'] = df['CourseOverGround'].apply(convert_to_float_or_na)"
   ]
  },
  {
   "cell_type": "code",
   "execution_count": 84,
   "id": "0252caad-a5ef-473b-964b-e689e0db7bd1",
   "metadata": {},
   "outputs": [],
   "source": [
    "df['Heading'] = df['Heading'].apply(convert_to_float_or_na)"
   ]
  },
  {
   "cell_type": "code",
   "execution_count": 86,
   "id": "a707a3eb-8cde-4835-86ec-7cf9c28f3f7e",
   "metadata": {},
   "outputs": [],
   "source": [
    "# Replace non-numeric values with a default value, e.g., 0\n",
    "df['UTCTimeStamp'] = pd.to_numeric(df['UTCTimeStamp'], errors='coerce').fillna(0).astype(int)\n"
   ]
  },
  {
   "cell_type": "code",
   "execution_count": 23,
   "id": "ae163a51-734f-458a-b2d7-3dd9eacd503d",
   "metadata": {},
   "outputs": [],
   "source": [
    "columns_to_remove = ['UTCTimeStamp', 'SpecialManoeuvreIndicator', 'Spare', 'RAIMFlag', 'CommunicationStateSelectorFlag', 'CommSyncState', 'CommStateSlotTimeOut', 'CommStateSubMessage', 'CommStateSlotIncrement', 'CommStateNumberOfSlots', 'CommStateKeepFlag']\n",
    "df = df.drop(columns=columns_to_remove)"
   ]
  },
  {
   "cell_type": "code",
   "execution_count": 24,
   "id": "71c580b7-942e-4ace-973a-1b23123bfbd5",
   "metadata": {},
   "outputs": [
    {
     "data": {
      "text/html": [
       "<div>\n",
       "<style scoped>\n",
       "    .dataframe tbody tr th:only-of-type {\n",
       "        vertical-align: middle;\n",
       "    }\n",
       "\n",
       "    .dataframe tbody tr th {\n",
       "        vertical-align: top;\n",
       "    }\n",
       "\n",
       "    .dataframe thead th {\n",
       "        text-align: right;\n",
       "    }\n",
       "</style>\n",
       "<table border=\"1\" class=\"dataframe\">\n",
       "  <thead>\n",
       "    <tr style=\"text-align: right;\">\n",
       "      <th></th>\n",
       "      <th>UTCPortTime</th>\n",
       "      <th>Port</th>\n",
       "      <th>SourceMMSI</th>\n",
       "      <th>MessageID</th>\n",
       "      <th>RepeatIndicator</th>\n",
       "      <th>NavigationalStatus</th>\n",
       "      <th>RateOfTurn</th>\n",
       "      <th>SpeedOverGround</th>\n",
       "      <th>PositionAccuracy</th>\n",
       "      <th>Latitude</th>\n",
       "      <th>Longitude</th>\n",
       "      <th>CourseOverGround</th>\n",
       "      <th>Heading</th>\n",
       "    </tr>\n",
       "  </thead>\n",
       "  <tbody>\n",
       "    <tr>\n",
       "      <th>0</th>\n",
       "      <td>2024-02-22 00:00:01</td>\n",
       "      <td>1</td>\n",
       "      <td>271002721</td>\n",
       "      <td>1</td>\n",
       "      <td>Not repeated</td>\n",
       "      <td>0 - under way using engine</td>\n",
       "      <td>Turning Right 000°/min</td>\n",
       "      <td>11.7 knots</td>\n",
       "      <td>Low (&gt;10m)</td>\n",
       "      <td>34° 44.3046' S</td>\n",
       "      <td>016° 01.3110' E</td>\n",
       "      <td>098.6°</td>\n",
       "      <td>099°</td>\n",
       "    </tr>\n",
       "    <tr>\n",
       "      <th>1</th>\n",
       "      <td>2024-02-22 00:00:07</td>\n",
       "      <td>1</td>\n",
       "      <td>563140400</td>\n",
       "      <td>1</td>\n",
       "      <td>Not repeated</td>\n",
       "      <td>0 - under way using engine</td>\n",
       "      <td>Turning Right 011°/min</td>\n",
       "      <td>11.1 knots</td>\n",
       "      <td>Low (&gt;10m)</td>\n",
       "      <td>36° 00.6191' S</td>\n",
       "      <td>018° 36.5918' E</td>\n",
       "      <td>080.5°</td>\n",
       "      <td>080°</td>\n",
       "    </tr>\n",
       "    <tr>\n",
       "      <th>2</th>\n",
       "      <td>2024-02-22 00:00:17</td>\n",
       "      <td>1</td>\n",
       "      <td>636021527</td>\n",
       "      <td>1</td>\n",
       "      <td>Not repeated</td>\n",
       "      <td>0 - under way using engine</td>\n",
       "      <td>Turning Right at more than 005°/30s (No TI ava...</td>\n",
       "      <td>8.6 knots</td>\n",
       "      <td>High (&lt;=10m)</td>\n",
       "      <td>34° 29.9695' S</td>\n",
       "      <td>015° 58.2794' E</td>\n",
       "      <td>281.8°</td>\n",
       "      <td>272°</td>\n",
       "    </tr>\n",
       "    <tr>\n",
       "      <th>3</th>\n",
       "      <td>2024-02-22 00:15:38</td>\n",
       "      <td>1</td>\n",
       "      <td>636016212</td>\n",
       "      <td>1</td>\n",
       "      <td>Not repeated</td>\n",
       "      <td>0 - under way using engine</td>\n",
       "      <td>Turning Right 000°/min</td>\n",
       "      <td>10.0 knots</td>\n",
       "      <td>Low (&gt;10m)</td>\n",
       "      <td>32° 13.8489' S</td>\n",
       "      <td>032° 16.5483' E</td>\n",
       "      <td>062.8°</td>\n",
       "      <td>060°</td>\n",
       "    </tr>\n",
       "    <tr>\n",
       "      <th>4</th>\n",
       "      <td>2024-02-22 00:15:48</td>\n",
       "      <td>1</td>\n",
       "      <td>601305800</td>\n",
       "      <td>3</td>\n",
       "      <td>Not repeated</td>\n",
       "      <td>0 - under way using engine</td>\n",
       "      <td>No turn information available</td>\n",
       "      <td>0.0 knots</td>\n",
       "      <td>Low (&gt;10m)</td>\n",
       "      <td>28° 47.7290' S</td>\n",
       "      <td>032° 04.7515' E</td>\n",
       "      <td>327.3°</td>\n",
       "      <td>Unavailable</td>\n",
       "    </tr>\n",
       "  </tbody>\n",
       "</table>\n",
       "</div>"
      ],
      "text/plain": [
       "           UTCPortTime  Port  SourceMMSI  MessageID RepeatIndicator  \\\n",
       "0  2024-02-22 00:00:01     1   271002721          1    Not repeated   \n",
       "1  2024-02-22 00:00:07     1   563140400          1    Not repeated   \n",
       "2  2024-02-22 00:00:17     1   636021527          1    Not repeated   \n",
       "3  2024-02-22 00:15:38     1   636016212          1    Not repeated   \n",
       "4  2024-02-22 00:15:48     1   601305800          3    Not repeated   \n",
       "\n",
       "           NavigationalStatus  \\\n",
       "0  0 - under way using engine   \n",
       "1  0 - under way using engine   \n",
       "2  0 - under way using engine   \n",
       "3  0 - under way using engine   \n",
       "4  0 - under way using engine   \n",
       "\n",
       "                                          RateOfTurn SpeedOverGround  \\\n",
       "0                             Turning Right 000°/min      11.7 knots   \n",
       "1                             Turning Right 011°/min      11.1 knots   \n",
       "2  Turning Right at more than 005°/30s (No TI ava...       8.6 knots   \n",
       "3                             Turning Right 000°/min      10.0 knots   \n",
       "4                      No turn information available       0.0 knots   \n",
       "\n",
       "  PositionAccuracy        Latitude        Longitude CourseOverGround  \\\n",
       "0       Low (>10m)  34° 44.3046' S  016° 01.3110' E           098.6°   \n",
       "1       Low (>10m)  36° 00.6191' S  018° 36.5918' E           080.5°   \n",
       "2     High (<=10m)  34° 29.9695' S  015° 58.2794' E           281.8°   \n",
       "3       Low (>10m)  32° 13.8489' S  032° 16.5483' E           062.8°   \n",
       "4       Low (>10m)  28° 47.7290' S  032° 04.7515' E           327.3°   \n",
       "\n",
       "       Heading  \n",
       "0         099°  \n",
       "1         080°  \n",
       "2         272°  \n",
       "3         060°  \n",
       "4  Unavailable  "
      ]
     },
     "execution_count": 24,
     "metadata": {},
     "output_type": "execute_result"
    }
   ],
   "source": [
    "df.head()"
   ]
  },
  {
   "cell_type": "code",
   "execution_count": 25,
   "id": "838d3964-f054-43ed-a2b3-3b665e9eacea",
   "metadata": {},
   "outputs": [],
   "source": [
    "output_file = 'RSA_COASTDATA 6.csv'\n",
    "df.to_csv(output_file, index=False)"
   ]
  },
  {
   "cell_type": "code",
   "execution_count": 26,
   "id": "04c5e4d4-5f43-4baf-a6b9-0df418792634",
   "metadata": {},
   "outputs": [
    {
     "name": "stdout",
     "output_type": "stream",
     "text": [
      "cleaned saved data to RSA_COASTDATA 6.csv\n"
     ]
    }
   ],
   "source": [
    "print(f\"cleaned saved data to {output_file}\")"
   ]
  },
  {
   "cell_type": "code",
   "execution_count": null,
   "id": "6cf8a8de-fe56-4e68-873d-aa75f82102cf",
   "metadata": {},
   "outputs": [],
   "source": []
  }
 ],
 "metadata": {
  "kernelspec": {
   "display_name": "Python 3 (ipykernel)",
   "language": "python",
   "name": "python3"
  },
  "language_info": {
   "codemirror_mode": {
    "name": "ipython",
    "version": 3
   },
   "file_extension": ".py",
   "mimetype": "text/x-python",
   "name": "python",
   "nbconvert_exporter": "python",
   "pygments_lexer": "ipython3",
   "version": "3.12.5"
  }
 },
 "nbformat": 4,
 "nbformat_minor": 5
}
